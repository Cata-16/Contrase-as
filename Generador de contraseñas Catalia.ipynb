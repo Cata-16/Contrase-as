{
 "cells": [
  {
   "cell_type": "code",
   "execution_count": 6,
   "metadata": {},
   "outputs": [
    {
     "name": "stdout",
     "output_type": "stream",
     "text": [
      "tu cotraseña de longitud 6 es: g2!/y(\n"
     ]
    }
   ],
   "source": [
    "#!#$&()*+,-./0123456789?@ABCDEFGHIJKLMNOPQRSTUVWXYZabcdefghijklmnopqrstuvwxyz\n",
    "\n",
    "import random\n",
    "random.seed(1234)\n",
    "\n",
    "chars = '!#$&()*+,-./0123456789?@ABCDEFGHIJKLMNOPQRSTUVWXYZabcdefghijklmnopqrstuvwxyz'\n",
    "password =''\n",
    "\n",
    "lengthPW = int(input('Que longitud quieres para tu pw'))\n",
    "\n",
    "for _ in range(lengthPW):\n",
    "\n",
    "    password += random.choice(chars)\n",
    "\n",
    "print(\"tu cotraseña de longitud\", lengthPW, \"es:\" ,password)"
   ]
  },
  {
   "cell_type": "code",
   "execution_count": 4,
   "metadata": {},
   "outputs": [
    {
     "name": "stdout",
     "output_type": "stream",
     "text": [
      "contraseña correcta\n"
     ]
    }
   ],
   "source": [
    "contraseña = \"computadora\"\n",
    "contador = 0\n",
    "\n",
    "while True: \n",
    "    contraseña_input= input(\"introduzca una contraseña\")\n",
    "    contador +=1\n",
    "\n",
    "    if contador >3:\n",
    "        print(\"haz sobrepensado los intentos\")\n",
    "        break\n",
    "\n",
    "    elif contraseña_input == \"computadora\":\n",
    "        print(\"contraseña correcta\")\n",
    "        break\n",
    "    else:\n",
    "        print(\"contraseña incorrecta, introduzca una contraseña correcta\")\n",
    "\n",
    "\n"
   ]
  }
 ],
 "metadata": {
  "kernelspec": {
   "display_name": "Python 3",
   "language": "python",
   "name": "python3"
  },
  "language_info": {
   "codemirror_mode": {
    "name": "ipython",
    "version": 3
   },
   "file_extension": ".py",
   "mimetype": "text/x-python",
   "name": "python",
   "nbconvert_exporter": "python",
   "pygments_lexer": "ipython3",
   "version": "3.12.2"
  }
 },
 "nbformat": 4,
 "nbformat_minor": 2
}
